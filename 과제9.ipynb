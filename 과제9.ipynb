{
  "nbformat": 4,
  "nbformat_minor": 0,
  "metadata": {
    "colab": {
      "provenance": [],
      "authorship_tag": "ABX9TyOo6XHNlPzZphCUr3NoNxB5",
      "include_colab_link": true
    },
    "kernelspec": {
      "name": "python3",
      "display_name": "Python 3"
    },
    "language_info": {
      "name": "python"
    }
  },
  "cells": [
    {
      "cell_type": "markdown",
      "metadata": {
        "id": "view-in-github",
        "colab_type": "text"
      },
      "source": [
        "<a href=\"https://colab.research.google.com/github/tmdgus0615/python/blob/main/%EA%B3%BC%EC%A0%9C9.ipynb\" target=\"_parent\"><img src=\"https://colab.research.google.com/assets/colab-badge.svg\" alt=\"Open In Colab\"/></a>"
      ]
    },
    {
      "cell_type": "code",
      "execution_count": 7,
      "metadata": {
        "colab": {
          "base_uri": "https://localhost:8080/"
        },
        "id": "aIdFiNBNcO58",
        "outputId": "e5ca6256-fe4f-4235-a139-153c32254635"
      },
      "outputs": [
        {
          "output_type": "stream",
          "name": "stdout",
          "text": [
            "컴퓨터과 3학년 1반\n",
            "컴퓨터과 3학년 1반\n",
            "컴퓨터과 3학년 1반\n"
          ]
        }
      ],
      "source": [
        "for i in range(0, 3, 1):\n",
        "  print(\"컴퓨터과 3학년 1반\")"
      ]
    },
    {
      "cell_type": "code",
      "source": [
        "for i in [0, 1, 2, 3, 4]:\n",
        "  print(\"컴퓨터과 3학년 1반\")"
      ],
      "metadata": {
        "colab": {
          "base_uri": "https://localhost:8080/"
        },
        "id": "e9qy558ydyQK",
        "outputId": "5f2ce5a2-804c-40de-aff0-11377a182ecb"
      },
      "execution_count": 3,
      "outputs": [
        {
          "output_type": "stream",
          "name": "stdout",
          "text": [
            "컴퓨터과 3학년 1반\n",
            "컴퓨터과 3학년 1반\n",
            "컴퓨터과 3학년 1반\n",
            "컴퓨터과 3학년 1반\n",
            "컴퓨터과 3학년 1반\n"
          ]
        }
      ]
    },
    {
      "cell_type": "code",
      "source": [
        "for i in [\"봄\", \"여름\", \"가을\", \"겨울\"]:\n",
        "  print(i, \"컴퓨터과 3학년 1반\")"
      ],
      "metadata": {
        "colab": {
          "base_uri": "https://localhost:8080/"
        },
        "id": "TwRPSARyeCTZ",
        "outputId": "ec916546-1ff3-43ad-e424-2d61511cf75b"
      },
      "execution_count": 5,
      "outputs": [
        {
          "output_type": "stream",
          "name": "stdout",
          "text": [
            "봄 컴퓨터과 3학년 1반\n",
            "여름 컴퓨터과 3학년 1반\n",
            "가을 컴퓨터과 3학년 1반\n",
            "겨울 컴퓨터과 3학년 1반\n"
          ]
        }
      ]
    },
    {
      "cell_type": "code",
      "source": [
        "for i in range(1, 11, 1):\n",
        "  print(i, \"컴퓨터과\")"
      ],
      "metadata": {
        "colab": {
          "base_uri": "https://localhost:8080/"
        },
        "id": "bNCxUhtCeTFB",
        "outputId": "28056f6d-73d7-452a-af89-efd904b5cfbb"
      },
      "execution_count": 6,
      "outputs": [
        {
          "output_type": "stream",
          "name": "stdout",
          "text": [
            "1 컴퓨터과\n",
            "2 컴퓨터과\n",
            "3 컴퓨터과\n",
            "4 컴퓨터과\n",
            "5 컴퓨터과\n",
            "6 컴퓨터과\n",
            "7 컴퓨터과\n",
            "8 컴퓨터과\n",
            "9 컴퓨터과\n",
            "10 컴퓨터과\n"
          ]
        }
      ]
    },
    {
      "cell_type": "code",
      "source": [
        "for i in range(2, 6, 1):\n",
        "  print(i, end=\" \")"
      ],
      "metadata": {
        "colab": {
          "base_uri": "https://localhost:8080/"
        },
        "id": "mEYakT1Oe2d6",
        "outputId": "7386a43e-d8c1-41fb-91f0-768f72ab1ec7"
      },
      "execution_count": 11,
      "outputs": [
        {
          "output_type": "stream",
          "name": "stdout",
          "text": [
            "2 3 4 5 "
          ]
        }
      ]
    },
    {
      "cell_type": "code",
      "source": [
        "result = 1\n",
        "\n",
        "for i in range(2, 6, 1):\n",
        "  result = result * i\n",
        "print(\"A, B, C, D, E 학생들을 순서대로 세우는 경우의 수 :\", result)"
      ],
      "metadata": {
        "colab": {
          "base_uri": "https://localhost:8080/"
        },
        "id": "Z3zk8dXrfaLy",
        "outputId": "397f78aa-7f92-4e89-9bf8-8fa7647093bd"
      },
      "execution_count": 49,
      "outputs": [
        {
          "output_type": "stream",
          "name": "stdout",
          "text": [
            "A, B, C, D, E 학생들을 순서대로 세우는 경우의 수 : 120\n"
          ]
        }
      ]
    },
    {
      "cell_type": "code",
      "source": [
        "sum = 0\n",
        "\n",
        "for i in range(1, 11, 1):\n",
        "  sum = sum + i\n",
        "print(sum)"
      ],
      "metadata": {
        "colab": {
          "base_uri": "https://localhost:8080/"
        },
        "id": "UK8QPTlYh7FK",
        "outputId": "8b9b6408-4baa-446c-8bd6-bf20d3cb42df"
      },
      "execution_count": 38,
      "outputs": [
        {
          "output_type": "stream",
          "name": "stdout",
          "text": [
            "55\n"
          ]
        }
      ]
    },
    {
      "cell_type": "code",
      "source": [
        "odd_sum = 0\n",
        "for i in range(1001, 2001, 2):\n",
        "  odd_sum = odd_sum + i\n",
        "print(odd_sum)"
      ],
      "metadata": {
        "colab": {
          "base_uri": "https://localhost:8080/"
        },
        "id": "vkeu92_wie9K",
        "outputId": "587b47fe-0e18-4f21-9b17-b07e412bc158"
      },
      "execution_count": 32,
      "outputs": [
        {
          "output_type": "stream",
          "name": "stdout",
          "text": [
            "750000\n"
          ]
        }
      ]
    },
    {
      "cell_type": "code",
      "source": [
        "odd_sum = 0\n",
        "for i in range(1000, 2001, 1):\n",
        "  if i%2 == 1:\n",
        "    odd_sum = odd_sum + i\n",
        "print(odd_sum)"
      ],
      "metadata": {
        "colab": {
          "base_uri": "https://localhost:8080/"
        },
        "id": "YO6Heip8i_jj",
        "outputId": "a86cbb95-8160-40c8-fcaf-ba8a5f893e3a"
      },
      "execution_count": 36,
      "outputs": [
        {
          "output_type": "stream",
          "name": "stdout",
          "text": [
            "750000\n"
          ]
        }
      ]
    },
    {
      "cell_type": "code",
      "source": [
        "i, hap = 0, 0\n",
        "for i in range(500, 1001, 1):\n",
        "  if i%2 == 0:\n",
        "    hap += i\n",
        "print(\"500에서 1000까지의 짝수의 합 :\", hap)"
      ],
      "metadata": {
        "colab": {
          "base_uri": "https://localhost:8080/"
        },
        "id": "KLfzWmZwjtvT",
        "outputId": "27a3bdf5-72a5-4bb2-8335-8cd3f6bb0a57"
      },
      "execution_count": 40,
      "outputs": [
        {
          "output_type": "stream",
          "name": "stdout",
          "text": [
            "500에서 1000까지의 짝수의 합 : 188250\n"
          ]
        }
      ]
    },
    {
      "cell_type": "code",
      "source": [
        "for i in range(3):\n",
        "  for k in range(2):\n",
        "    print(\"난생처음은 쉽습니다.^^ (i값:\", i,\", k값:\", k,\")\")"
      ],
      "metadata": {
        "colab": {
          "base_uri": "https://localhost:8080/"
        },
        "id": "VslVLG2Ckj4L",
        "outputId": "01a41f7d-4dcf-445d-b787-007434570481"
      },
      "execution_count": 43,
      "outputs": [
        {
          "output_type": "stream",
          "name": "stdout",
          "text": [
            "난생처음은 쉽습니다.^^ (i값: 0 , k값: 0 )\n",
            "난생처음은 쉽습니다.^^ (i값: 0 , k값: 1 )\n",
            "난생처음은 쉽습니다.^^ (i값: 1 , k값: 0 )\n",
            "난생처음은 쉽습니다.^^ (i값: 1 , k값: 1 )\n",
            "난생처음은 쉽습니다.^^ (i값: 2 , k값: 0 )\n",
            "난생처음은 쉽습니다.^^ (i값: 2 , k값: 1 )\n"
          ]
        }
      ]
    },
    {
      "cell_type": "code",
      "source": [
        "for i in range(3):\n",
        "  for k in range(2):\n",
        "    print(\"중첩 for문 입니다\")"
      ],
      "metadata": {
        "colab": {
          "base_uri": "https://localhost:8080/"
        },
        "id": "M6jdyvWFqaF9",
        "outputId": "299974c2-86b6-4ecb-f19c-e546415c8c93"
      },
      "execution_count": 50,
      "outputs": [
        {
          "output_type": "stream",
          "name": "stdout",
          "text": [
            "중첩 for문 입니다\n",
            "중첩 for문 입니다\n",
            "중첩 for문 입니다\n",
            "중첩 for문 입니다\n",
            "중첩 for문 입니다\n",
            "중첩 for문 입니다\n"
          ]
        }
      ]
    },
    {
      "cell_type": "code",
      "source": [
        "for i in range(1,10,1):\n",
        "  for j in range(2, 10, 1):\n",
        "    print(j, \"*\", i, \"=\", i*j, end=\", \")\n",
        "  print(\"\\n\")"
      ],
      "metadata": {
        "colab": {
          "base_uri": "https://localhost:8080/"
        },
        "id": "ph6vYQdSqew8",
        "outputId": "90f47a4b-f357-4b52-f74a-fe30187f3752"
      },
      "execution_count": 67,
      "outputs": [
        {
          "output_type": "stream",
          "name": "stdout",
          "text": [
            "2 * 1 = 2, 3 * 1 = 3, 4 * 1 = 4, 5 * 1 = 5, 6 * 1 = 6, 7 * 1 = 7, 8 * 1 = 8, 9 * 1 = 9, \n",
            "\n",
            "2 * 2 = 4, 3 * 2 = 6, 4 * 2 = 8, 5 * 2 = 10, 6 * 2 = 12, 7 * 2 = 14, 8 * 2 = 16, 9 * 2 = 18, \n",
            "\n",
            "2 * 3 = 6, 3 * 3 = 9, 4 * 3 = 12, 5 * 3 = 15, 6 * 3 = 18, 7 * 3 = 21, 8 * 3 = 24, 9 * 3 = 27, \n",
            "\n",
            "2 * 4 = 8, 3 * 4 = 12, 4 * 4 = 16, 5 * 4 = 20, 6 * 4 = 24, 7 * 4 = 28, 8 * 4 = 32, 9 * 4 = 36, \n",
            "\n",
            "2 * 5 = 10, 3 * 5 = 15, 4 * 5 = 20, 5 * 5 = 25, 6 * 5 = 30, 7 * 5 = 35, 8 * 5 = 40, 9 * 5 = 45, \n",
            "\n",
            "2 * 6 = 12, 3 * 6 = 18, 4 * 6 = 24, 5 * 6 = 30, 6 * 6 = 36, 7 * 6 = 42, 8 * 6 = 48, 9 * 6 = 54, \n",
            "\n",
            "2 * 7 = 14, 3 * 7 = 21, 4 * 7 = 28, 5 * 7 = 35, 6 * 7 = 42, 7 * 7 = 49, 8 * 7 = 56, 9 * 7 = 63, \n",
            "\n",
            "2 * 8 = 16, 3 * 8 = 24, 4 * 8 = 32, 5 * 8 = 40, 6 * 8 = 48, 7 * 8 = 56, 8 * 8 = 64, 9 * 8 = 72, \n",
            "\n",
            "2 * 9 = 18, 3 * 9 = 27, 4 * 9 = 36, 5 * 9 = 45, 6 * 9 = 54, 7 * 9 = 63, 8 * 9 = 72, 9 * 9 = 81, \n",
            "\n"
          ]
        }
      ]
    },
    {
      "cell_type": "code",
      "source": [
        "i = 0\n",
        "while(i<3):\n",
        "  print(\"컴퓨터과 3학년 1반\")\n",
        "  i=i+1"
      ],
      "metadata": {
        "colab": {
          "base_uri": "https://localhost:8080/"
        },
        "id": "nOLVmzcUtyM2",
        "outputId": "b66e0389-e611-46c8-8348-6c63912f20ba"
      },
      "execution_count": 70,
      "outputs": [
        {
          "output_type": "stream",
          "name": "stdout",
          "text": [
            "컴퓨터과 3학년 1반\n",
            "컴퓨터과 3학년 1반\n",
            "컴퓨터과 3학년 1반\n"
          ]
        }
      ]
    },
    {
      "cell_type": "code",
      "source": [
        "i = 0\n",
        "while True:\n",
        "  print(\"ㅎ\", end=\" \")\n",
        "  i = i+1\n",
        "  if i == 10 :\n",
        "    break"
      ],
      "metadata": {
        "colab": {
          "base_uri": "https://localhost:8080/"
        },
        "id": "P4YrA8yCu8c2",
        "outputId": "5245063d-bc3b-4035-b9a8-ced655c0a0a1"
      },
      "execution_count": 73,
      "outputs": [
        {
          "output_type": "stream",
          "name": "stdout",
          "text": [
            "ㅎ ㅎ ㅎ ㅎ ㅎ ㅎ ㅎ ㅎ ㅎ ㅎ "
          ]
        }
      ]
    },
    {
      "cell_type": "code",
      "source": [
        "def menu():\n",
        "  print(\"#####################################\")\n",
        "  print(\"# 1. 덧셈       #\")\n",
        "  print(\"# 2. 뺄셈       #\")\n",
        "  print(\"# 3. 곱셈       #\")\n",
        "  print(\"# 4. 나눗셈     #\")\n",
        "  print(\"# 5. 종료       #\")\n",
        "\n",
        "def add():\n",
        "  num1 = float(input(\"첫번째 숫자를 입력 : \"))\n",
        "  num2 = float(input(\"두번째 숫자를 입력 : \"))\n",
        "  sum = num1 + num2\n",
        "  return sum\n",
        "\n",
        "def sub():\n",
        "  num1 = float(input(\"첫번째 숫자를 입력 : \"))\n",
        "  num2 = float(input(\"두번째 숫자를 입력 : \"))\n",
        "  sub = num1 - num2\n",
        "  return sub\n",
        "\n",
        "def mul():\n",
        "  num1 = float(input(\"첫번째 숫자를 입력 : \"))\n",
        "  num2 = float(input(\"두번째 숫자를 입력 : \"))\n",
        "  mul = num1 * num2\n",
        "  return mul\n",
        "\n",
        "def div():\n",
        "  num1 = float(input(\"첫번째 숫자를 입력 : \"))\n",
        "  num2 = float(input(\"두번째 숫자를 입력 : \"))\n",
        "  div = num1 / num2\n",
        "  return div\n",
        "\n",
        "while True :\n",
        "  menu()\n",
        "  select = int(input(\"메뉴를 선택 : \"))\n",
        "  if select == 5:\n",
        "    break\n",
        "  elif select == 1:\n",
        "    sum = add()\n",
        "    print(\"두수의 덧셈 결과 :\", sum)\n",
        "  elif select == 2:\n",
        "    sub = sub()\n",
        "    print(\"두수의 뺄셈 결과 :\", sub)\n",
        "  elif select == 3:\n",
        "    mul = mul()\n",
        "    print(\"두수의 곱셈 결과 :\", mul)\n",
        "  elif select == 4:\n",
        "    div = div()\n",
        "    print(\"두수의 나눗셈 결과 :\", div)"
      ],
      "metadata": {
        "colab": {
          "base_uri": "https://localhost:8080/"
        },
        "id": "ZJpKXkLsvmQG",
        "outputId": "ba5b4e7b-c75f-425f-9147-01bc654ca2de"
      },
      "execution_count": null,
      "outputs": [
        {
          "output_type": "stream",
          "name": "stdout",
          "text": [
            "#####################################\n",
            "# 1. 덧셈       #\n",
            "# 2. 뺄셈       #\n",
            "# 3. 곱셈       #\n",
            "# 4. 나눗셈     #\n",
            "# 5. 종료       #\n",
            "메뉴를 선택 : 1\n",
            "첫번째 숫자를 입력 : 3\n",
            "두번째 숫자를 입력 : 4\n",
            "두수의 덧셈 결과 : 7.0\n",
            "#####################################\n",
            "# 1. 덧셈       #\n",
            "# 2. 뺄셈       #\n",
            "# 3. 곱셈       #\n",
            "# 4. 나눗셈     #\n",
            "# 5. 종료       #\n",
            "메뉴를 선택 : 2\n",
            "첫번째 숫자를 입력 : 3\n",
            "두번째 숫자를 입력 : 4\n",
            "두수의 뺄셈 결과 : -1.0\n",
            "#####################################\n",
            "# 1. 덧셈       #\n",
            "# 2. 뺄셈       #\n",
            "# 3. 곱셈       #\n",
            "# 4. 나눗셈     #\n",
            "# 5. 종료       #\n",
            "메뉴를 선택 : 3\n",
            "첫번째 숫자를 입력 : 4\n",
            "두번째 숫자를 입력 : 3\n",
            "두수의 곱셈 결과 : 12.0\n",
            "#####################################\n",
            "# 1. 덧셈       #\n",
            "# 2. 뺄셈       #\n",
            "# 3. 곱셈       #\n",
            "# 4. 나눗셈     #\n",
            "# 5. 종료       #\n"
          ]
        }
      ]
    }
  ]
}
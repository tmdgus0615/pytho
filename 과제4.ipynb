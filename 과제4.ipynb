{
  "nbformat": 4,
  "nbformat_minor": 0,
  "metadata": {
    "colab": {
      "provenance": [],
      "authorship_tag": "ABX9TyPXbOU3JRCS3a1ba5ONWnvh",
      "include_colab_link": true
    },
    "kernelspec": {
      "name": "python3",
      "display_name": "Python 3"
    },
    "language_info": {
      "name": "python"
    }
  },
  "cells": [
    {
      "cell_type": "markdown",
      "metadata": {
        "id": "view-in-github",
        "colab_type": "text"
      },
      "source": [
        "<a href=\"https://colab.research.google.com/github/tmdgus0615/python/blob/main/%EA%B3%BC%EC%A0%9C4.ipynb\" target=\"_parent\"><img src=\"https://colab.research.google.com/assets/colab-badge.svg\" alt=\"Open In Colab\"/></a>"
      ]
    },
    {
      "cell_type": "code",
      "execution_count": 1,
      "metadata": {
        "colab": {
          "base_uri": "https://localhost:8080/"
        },
        "id": "i0_AMS5qTbgT",
        "outputId": "680bd85f-f78b-4242-e974-b3636702c084"
      },
      "outputs": [
        {
          "output_type": "stream",
          "name": "stdout",
          "text": [
            "오늘 총 매출액은 11600 입니다.\n"
          ]
        }
      ],
      "source": [
        "tg = 900\n",
        "milk = 1800\n",
        "dsl1 = 3500\n",
        "dsl2 = 4000\n",
        "cola = 1500\n",
        "gang = 2000\n",
        "coffee = 1800\n",
        "price = tg*10 + dsl1*5\n",
        "sell = milk*2 + dsl2*4 + cola*1 + gang*4 + coffee*5\n",
        "total = sell - price\n",
        "print(\"오늘 총 매출액은\", total, \"입니다.\")"
      ]
    }
  ]
}
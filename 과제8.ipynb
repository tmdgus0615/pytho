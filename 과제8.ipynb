{
  "nbformat": 4,
  "nbformat_minor": 0,
  "metadata": {
    "colab": {
      "provenance": [],
      "authorship_tag": "ABX9TyP19ML2LhdDldCPvn+je/+n",
      "include_colab_link": true
    },
    "kernelspec": {
      "name": "python3",
      "display_name": "Python 3"
    },
    "language_info": {
      "name": "python"
    }
  },
  "cells": [
    {
      "cell_type": "markdown",
      "metadata": {
        "id": "view-in-github",
        "colab_type": "text"
      },
      "source": [
        "<a href=\"https://colab.research.google.com/github/tmdgus0615/python/blob/main/%EA%B3%BC%EC%A0%9C8.ipynb\" target=\"_parent\"><img src=\"https://colab.research.google.com/assets/colab-badge.svg\" alt=\"Open In Colab\"/></a>"
      ]
    },
    {
      "cell_type": "code",
      "execution_count": 5,
      "metadata": {
        "colab": {
          "base_uri": "https://localhost:8080/"
        },
        "id": "oyFfVyycX5vX",
        "outputId": "f784c0f7-3281-4a0d-f78f-e8c8128d95b6"
      },
      "outputs": [
        {
          "output_type": "stream",
          "name": "stdout",
          "text": [
            "34\n"
          ]
        }
      ],
      "source": [
        "import random\n",
        "\n",
        "rndNumber = random.randint(1,45)\n",
        "\n",
        "print(rndNumber)"
      ]
    },
    {
      "cell_type": "code",
      "source": [
        "import random\n",
        "lottery = [0,0,0,0,0,0]\n",
        "\n",
        "for i in range(6):\n",
        "  lottery [i] = random.randint(1, 45)\n",
        "for i in range(6):\n",
        "  print(lottery [i], end = \" \")"
      ],
      "metadata": {
        "colab": {
          "base_uri": "https://localhost:8080/"
        },
        "id": "e1B4m7j0Y8wE",
        "outputId": "bafefd0b-f9e7-42f7-e5c8-c1cbadc79d94"
      },
      "execution_count": 25,
      "outputs": [
        {
          "output_type": "stream",
          "name": "stdout",
          "text": [
            "20 22 43 37 28 44 "
          ]
        }
      ]
    },
    {
      "cell_type": "code",
      "source": [
        "import random\n",
        "\n",
        "foods = [\"떡볶이\", \"순대\", \"소고기\", \"쿠키\", \"라면\"]\n",
        "result = random.choice(foods)\n",
        "print(result)"
      ],
      "metadata": {
        "colab": {
          "base_uri": "https://localhost:8080/"
        },
        "id": "WwEM7g3Zcn7M",
        "outputId": "30b66698-890f-4406-b992-058e13699e6d"
      },
      "execution_count": 26,
      "outputs": [
        {
          "output_type": "stream",
          "name": "stdout",
          "text": [
            "떡볶이\n"
          ]
        }
      ]
    },
    {
      "cell_type": "code",
      "source": [
        "import random\n",
        "com = \"\"\n",
        "player = input(\"안내면 진거 가위바위보! : \")\n",
        "com = random.choice([\"가위\", \"바위\", \"보\"])\n",
        "print(\"컴퓨터 : \", com)\n",
        "if com == player :\n",
        "  print(\"비겼습니다\")\n",
        "\n",
        "elif (player == \"가위\" and com == \"보\") or \\\n",
        "     (player == \"보\" and com == \"바위\") or \\\n",
        "     (player == \"바위\" and com == \"가위\") :\n",
        "    print(\"이겼습니다\")\n",
        "else :\n",
        "  print(\"졌습니다\")"
      ],
      "metadata": {
        "colab": {
          "base_uri": "https://localhost:8080/"
        },
        "id": "oRGjkvFWdDUs",
        "outputId": "5df2345f-6efe-4a7b-bbd5-90abb74aad97"
      },
      "execution_count": 59,
      "outputs": [
        {
          "output_type": "stream",
          "name": "stdout",
          "text": [
            "안내면 진거 가위바위보! : 보\n",
            "컴퓨터 :  바위\n",
            "이겼습니다\n"
          ]
        }
      ]
    }
  ]
}
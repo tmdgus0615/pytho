{
  "nbformat": 4,
  "nbformat_minor": 0,
  "metadata": {
    "colab": {
      "provenance": [],
      "authorship_tag": "ABX9TyO39fFbuOluIlCCMuD8ZXZz",
      "include_colab_link": true
    },
    "kernelspec": {
      "name": "python3",
      "display_name": "Python 3"
    },
    "language_info": {
      "name": "python"
    }
  },
  "cells": [
    {
      "cell_type": "markdown",
      "metadata": {
        "id": "view-in-github",
        "colab_type": "text"
      },
      "source": [
        "<a href=\"https://colab.research.google.com/github/tmdgus0615/python/blob/main/%EA%B3%BC%EC%A0%9C10.ipynb\" target=\"_parent\"><img src=\"https://colab.research.google.com/assets/colab-badge.svg\" alt=\"Open In Colab\"/></a>"
      ]
    },
    {
      "cell_type": "code",
      "execution_count": 29,
      "metadata": {
        "colab": {
          "base_uri": "https://localhost:8080/"
        },
        "id": "Hgeoa2NuQK36",
        "outputId": "4082311e-9e43-40f8-cd3f-d6b0ff2e01e1"
      },
      "outputs": [
        {
          "output_type": "stream",
          "name": "stdout",
          "text": [
            "주사위 3개가 모두  3 이다.\n",
            "같은 숫자가 나오기까지  14 번 던졌다.\n"
          ]
        }
      ],
      "source": [
        "import random\n",
        "count = 0\n",
        "while True:\n",
        "  dice1 = random.randint(1, 6)\n",
        "  dice2 = random.randint(1, 6)\n",
        "  dice3 = random.randint(1, 6)\n",
        "  count = count + 1\n",
        "  if dice1 == dice2 == dice3 :\n",
        "    print(\"주사위 3개가 모두 \", dice1, \"이다.\")\n",
        "    print(\"같은 숫자가 나오기까지 \", count, \"번 던졌다.\")\n",
        "    break"
      ]
    },
    {
      "cell_type": "code",
      "source": [
        "import random\n",
        "game = 1\n",
        "com = 0\n",
        "palyer = 0\n",
        "while game <= 10:\n",
        "  com = random.randint(1, 5)\n",
        "  print(\"제\", game, \"회 : \", end=\" \")\n",
        "  player = int(input(\"1~5 사이 숫자 중 제가 고른 숫자는? \"))\n",
        "  game = game + 1\n",
        "  if com == player:\n",
        "    print(\"정답입니다\")\n",
        "    break\n",
        "  else:\n",
        "    print(\"아까워요.\", com, \"이였는데..다시 해보세요\")\n",
        "if game > 10:\n",
        "  print(\"기회 끝\")\n",
        "  print(\"제 승리입니다.\")"
      ],
      "metadata": {
        "colab": {
          "base_uri": "https://localhost:8080/"
        },
        "id": "omouqL2pSGZF",
        "outputId": "0792b82d-e8a1-4024-a2cf-d18eb03195ac"
      },
      "execution_count": 60,
      "outputs": [
        {
          "output_type": "stream",
          "name": "stdout",
          "text": [
            "제 1 회 :  1~5 사이 숫자 중 제가 고른 숫자는? 0\n",
            "아까워요. 5 이였는데..다시 해보세요\n",
            "제 2 회 :  1~5 사이 숫자 중 제가 고른 숫자는? 0\n",
            "아까워요. 3 이였는데..다시 해보세요\n",
            "제 3 회 :  1~5 사이 숫자 중 제가 고른 숫자는? 0\n",
            "아까워요. 2 이였는데..다시 해보세요\n",
            "제 4 회 :  1~5 사이 숫자 중 제가 고른 숫자는? 0\n",
            "아까워요. 4 이였는데..다시 해보세요\n",
            "제 5 회 :  1~5 사이 숫자 중 제가 고른 숫자는? 0\n",
            "아까워요. 3 이였는데..다시 해보세요\n",
            "제 6 회 :  1~5 사이 숫자 중 제가 고른 숫자는? 0\n",
            "아까워요. 3 이였는데..다시 해보세요\n",
            "제 7 회 :  1~5 사이 숫자 중 제가 고른 숫자는? 0\n",
            "아까워요. 4 이였는데..다시 해보세요\n",
            "제 8 회 :  1~5 사이 숫자 중 제가 고른 숫자는? 0\n",
            "아까워요. 3 이였는데..다시 해보세요\n",
            "제 9 회 :  1~5 사이 숫자 중 제가 고른 숫자는? 0\n",
            "아까워요. 4 이였는데..다시 해보세요\n",
            "제 10 회 :  1~5 사이 숫자 중 제가 고른 숫자는? 0\n",
            "아까워요. 5 이였는데..다시 해보세요\n",
            "기회 끝\n",
            "제 승리입니다.\n"
          ]
        }
      ]
    },
    {
      "cell_type": "code",
      "source": [
        "import random\n",
        "num = random.sample(range(1,9),3)\n",
        "game = 1\n",
        "st = 0\n",
        "ba = 0\n",
        "print(num)\n",
        "\n",
        "while game <= 10 :\n",
        "  st = 0\n",
        "  ba = 0\n",
        "  print(\"제\", game, \"회 : \", end=\" \")\n",
        "  player = input(\"3자리 숫자를 입력 :\")\n",
        "  player = list(player)\n",
        "  player[0] = int(player[0])\n",
        "  player[1] = int(player[1])\n",
        "  player[2] = int(player[2])\n",
        "\n",
        "  if (num[0] == player[0]):\n",
        "    st = st + 1\n",
        "  elif (player[0] in num):\n",
        "    ba = ba + 1\n",
        "  if (num[1] == player[1]):\n",
        "    st = st + 1\n",
        "  elif (player[1] in num):\n",
        "    ba = ba + 1\n",
        "  if (num[2] == player[2]):\n",
        "    st = st + 1\n",
        "  elif (player[2] in num):\n",
        "    ba = ba + 1 \n",
        "  print(st, \"-스트라이크 //\", ba, \"-볼\")\n",
        "  game = game + 1\n",
        "  if st == 3:\n",
        "    print(\"맞췄습니다\")\n",
        "    break\n",
        "if game > 10:\n",
        "  print(\"제가 이겼습니다 정답은\", num, \"이였습니다\")"
      ],
      "metadata": {
        "colab": {
          "base_uri": "https://localhost:8080/"
        },
        "id": "-4JWDhz6Wtof",
        "outputId": "db1e29a3-32c4-4759-99d0-efebac3a193e"
      },
      "execution_count": 95,
      "outputs": [
        {
          "output_type": "stream",
          "name": "stdout",
          "text": [
            "[8, 2, 4]\n",
            "제 1 회 :  3자리 숫자를 입력 :123\n",
            "1 -스트라이크 // 0 -볼\n",
            "제 2 회 :  3자리 숫자를 입력 :123\n",
            "1 -스트라이크 // 0 -볼\n",
            "제 3 회 :  3자리 숫자를 입력 :123\n",
            "1 -스트라이크 // 0 -볼\n",
            "제 4 회 :  3자리 숫자를 입력 :123\n",
            "1 -스트라이크 // 0 -볼\n",
            "제 5 회 :  3자리 숫자를 입력 :123\n",
            "1 -스트라이크 // 0 -볼\n",
            "제 6 회 :  3자리 숫자를 입력 :123\n",
            "1 -스트라이크 // 0 -볼\n",
            "제 7 회 :  3자리 숫자를 입력 :123\n",
            "1 -스트라이크 // 0 -볼\n",
            "제 8 회 :  3자리 숫자를 입력 :1233\n",
            "1 -스트라이크 // 0 -볼\n",
            "제 9 회 :  3자리 숫자를 입력 :123\n",
            "1 -스트라이크 // 0 -볼\n",
            "제 10 회 :  3자리 숫자를 입력 :123\n",
            "1 -스트라이크 // 0 -볼\n",
            "제가 이겼습니다 정답은 [8, 2, 4] 이였습니다\n"
          ]
        }
      ]
    }
  ]
}
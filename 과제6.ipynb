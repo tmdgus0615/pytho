{
  "nbformat": 4,
  "nbformat_minor": 0,
  "metadata": {
    "colab": {
      "provenance": [],
      "authorship_tag": "ABX9TyPpOxVai2ejssD2101JOJaJ",
      "include_colab_link": true
    },
    "kernelspec": {
      "name": "python3",
      "display_name": "Python 3"
    },
    "language_info": {
      "name": "python"
    }
  },
  "cells": [
    {
      "cell_type": "markdown",
      "metadata": {
        "id": "view-in-github",
        "colab_type": "text"
      },
      "source": [
        "<a href=\"https://colab.research.google.com/github/tmdgus0615/python/blob/main/%EA%B3%BC%EC%A0%9C6.ipynb\" target=\"_parent\"><img src=\"https://colab.research.google.com/assets/colab-badge.svg\" alt=\"Open In Colab\"/></a>"
      ]
    },
    {
      "cell_type": "code",
      "execution_count": 4,
      "metadata": {
        "colab": {
          "base_uri": "https://localhost:8080/"
        },
        "id": "CNcID1bTJyIe",
        "outputId": "467a110a-b6aa-4d84-85af-0c8b16f0af1c"
      },
      "outputs": [
        {
          "output_type": "stream",
          "name": "stdout",
          "text": [
            "원본 문자열 ==>  트 와 이 스\n",
            "반대 문자열 ==>  스이와트\n"
          ]
        }
      ],
      "source": [
        "singer = [\"트\",\"와\",\"이\",\"스\"]\n",
        "reverse_singer = singer[3] + singer[2] + singer[1] + singer[0]\n",
        "\n",
        "print(\"원본 문자열 ==> \", singer[0], singer[1], singer[2], singer[3])\n",
        "print(\"반대 문자열 ==> \", reverse_singer)"
      ]
    },
    {
      "cell_type": "code",
      "source": [
        "singer = \"트와이스\"\n",
        "\n",
        "print(\"원본 문자열 ==> \", singer)\n",
        "print(\"반대 문자열 ==> \", singer[::-1])"
      ],
      "metadata": {
        "colab": {
          "base_uri": "https://localhost:8080/"
        },
        "id": "rUMHME4IPqBw",
        "outputId": "737b9028-e188-43d5-a558-d4b20cfbadac"
      },
      "execution_count": 12,
      "outputs": [
        {
          "output_type": "stream",
          "name": "stdout",
          "text": [
            "원본 문자열 ==>  트와이스\n",
            "반대 문자열 ==>  스이와트\n"
          ]
        }
      ]
    },
    {
      "cell_type": "code",
      "source": [
        "word = \"Python\"\n",
        "\n",
        "result_word = word[0].lower() + word[1:6].upper()\n",
        "print(result_word)"
      ],
      "metadata": {
        "colab": {
          "base_uri": "https://localhost:8080/"
        },
        "id": "JG_Zop_pQ4qY",
        "outputId": "0a3769ff-f3c8-4622-c423-0f8d4fad5058"
      },
      "execution_count": 13,
      "outputs": [
        {
          "output_type": "stream",
          "name": "stdout",
          "text": [
            "pYTHON\n"
          ]
        }
      ]
    }
  ]
}
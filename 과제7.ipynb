{
  "nbformat": 4,
  "nbformat_minor": 0,
  "metadata": {
    "colab": {
      "provenance": [],
      "authorship_tag": "ABX9TyM6QNdF0YA3PQSuQ5emDNuk",
      "include_colab_link": true
    },
    "kernelspec": {
      "name": "python3",
      "display_name": "Python 3"
    },
    "language_info": {
      "name": "python"
    }
  },
  "cells": [
    {
      "cell_type": "markdown",
      "metadata": {
        "id": "view-in-github",
        "colab_type": "text"
      },
      "source": [
        "<a href=\"https://colab.research.google.com/github/tmdgus0615/python/blob/main/%EA%B3%BC%EC%A0%9C7.ipynb\" target=\"_parent\"><img src=\"https://colab.research.google.com/assets/colab-badge.svg\" alt=\"Open In Colab\"/></a>"
      ]
    },
    {
      "cell_type": "code",
      "execution_count": 1,
      "metadata": {
        "colab": {
          "base_uri": "https://localhost:8080/"
        },
        "id": "HABPwrF3YNXm",
        "outputId": "18912ec0-234f-4b06-bbd1-21efb1ca4da2"
      },
      "outputs": [
        {
          "output_type": "stream",
          "name": "stdout",
          "text": [
            "100보다 큽니다.\n",
            "프로그램\n",
            "끝\n"
          ]
        }
      ],
      "source": [
        "num = 200\n",
        "if num > 100  :\n",
        "  print(\"100보다 큽니다.\")\n",
        "  print(\"프로그램\")\n",
        "  print(\"끝\")"
      ]
    },
    {
      "cell_type": "code",
      "source": [
        "num = int(input(\"정수를 입력 : \"))\n",
        "if num % 2 == 0 :\n",
        "  print(\"짝수입니다\")\n",
        "else :\n",
        "  print(\"홀수입니다\")"
      ],
      "metadata": {
        "colab": {
          "base_uri": "https://localhost:8080/"
        },
        "id": "0qA8fs9JYhrB",
        "outputId": "fb502879-cc1a-49ea-8347-a298a81681f5"
      },
      "execution_count": 7,
      "outputs": [
        {
          "output_type": "stream",
          "name": "stdout",
          "text": [
            "정수를 입력 : 13\n",
            "홀수입니다\n"
          ]
        }
      ]
    },
    {
      "cell_type": "code",
      "source": [
        "num = int(input(\"숫자를 입력 : \"))\n",
        "if num >= 100 :\n",
        "  if num <= 1000 :\n",
        "    print(\"100에서 1000사이다\")\n",
        "  else :\n",
        "    print(\"1000보다 크다\")\n",
        "else : \n",
        "  print(\"100보다 작다\")\n"
      ],
      "metadata": {
        "colab": {
          "base_uri": "https://localhost:8080/"
        },
        "id": "c_qrCBLaZOJg",
        "outputId": "53bd5f27-0e8e-41da-aa56-62e2727dcaf9"
      },
      "execution_count": 11,
      "outputs": [
        {
          "output_type": "stream",
          "name": "stdout",
          "text": [
            "숫자를 입력 : 99\n",
            "100보다 작다\n"
          ]
        }
      ]
    },
    {
      "cell_type": "code",
      "source": [
        "num = int(input(\"점수를 입력 ==>  \"))\n",
        "if num >= 90 :\n",
        "  print(\"A학점입니다.\")\n",
        "else :\n",
        "    if num >= 80 :\n",
        "      print(\"B학점입니다.\")\n",
        "    else :\n",
        "        if num >= 70 :\n",
        "          print(\"C학점입니다.\")\n",
        "        else :\n",
        "            if num >= 60 :\n",
        "              print(\"D학점입니다.\")\n",
        "            else :\n",
        "              print(\"F학점입니다.\")"
      ],
      "metadata": {
        "colab": {
          "base_uri": "https://localhost:8080/"
        },
        "id": "J4SFQjQacZVh",
        "outputId": "7b997710-f4a5-45c6-9380-6f48d8340e93"
      },
      "execution_count": 27,
      "outputs": [
        {
          "output_type": "stream",
          "name": "stdout",
          "text": [
            "점수를 입력 ==> 59\n",
            "F학점입니다.\n"
          ]
        }
      ]
    }
  ]
}
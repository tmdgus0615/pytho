{
  "nbformat": 4,
  "nbformat_minor": 0,
  "metadata": {
    "colab": {
      "provenance": [],
      "authorship_tag": "ABX9TyOuYEV6bxO2jcfPS2aOJnd1",
      "include_colab_link": true
    },
    "kernelspec": {
      "name": "python3",
      "display_name": "Python 3"
    },
    "language_info": {
      "name": "python"
    }
  },
  "cells": [
    {
      "cell_type": "markdown",
      "metadata": {
        "id": "view-in-github",
        "colab_type": "text"
      },
      "source": [
        "<a href=\"https://colab.research.google.com/github/tmdgus0615/python/blob/main/%EA%B3%BC%EC%A0%9C2.ipynb\" target=\"_parent\"><img src=\"https://colab.research.google.com/assets/colab-badge.svg\" alt=\"Open In Colab\"/></a>"
      ]
    },
    {
      "cell_type": "code",
      "execution_count": 15,
      "metadata": {
        "colab": {
          "base_uri": "https://localhost:8080/"
        },
        "id": "BL-5SHazG6CZ",
        "outputId": "84dae473-a72a-4d2b-9d9d-e05d5fd1f41e"
      },
      "outputs": [
        {
          "output_type": "stream",
          "name": "stdout",
          "text": [
            "숫자1==> : 100\n",
            "숫자2==> : 10\n",
            "100 + 10 = 110\n",
            "100 - 10 = 90\n",
            "100 * 10 = 1000\n",
            "100 / 10 = 10.0\n",
            "100 % 10 = 0\n",
            "100 ** 10 = 100000000000000000000\n"
          ]
        }
      ],
      "source": [
        "num1 = int(input(\"숫자1==> : \"))\n",
        "num2 = int(input(\"숫자2==> : \"))\n",
        "print(num1, \"+\", num2, \"=\", num1+num2)\n",
        "print(num1, \"-\", num2, \"=\", num1-num2)\n",
        "print(num1, \"*\", num2, \"=\", num1*num2)\n",
        "print(num1, \"/\", num2, \"=\", float(num1/num2))\n",
        "print(num1, \"%\", num2, \"=\", num1%num2)\n",
        "print(num1, \"**\", num2, \"=\", num1**num2)"
      ]
    }
  ]
}
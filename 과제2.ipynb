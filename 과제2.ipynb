{
  "nbformat": 4,
  "nbformat_minor": 0,
  "metadata": {
    "colab": {
      "provenance": [],
      "authorship_tag": "ABX9TyO0O4Ht7g3QsZLqJP3SKCKx",
      "include_colab_link": true
    },
    "kernelspec": {
      "name": "python3",
      "display_name": "Python 3"
    },
    "language_info": {
      "name": "python"
    }
  },
  "cells": [
    {
      "cell_type": "markdown",
      "metadata": {
        "id": "view-in-github",
        "colab_type": "text"
      },
      "source": [
        "<a href=\"https://colab.research.google.com/github/tmdgus0615/python/blob/main/%EA%B3%BC%EC%A0%9C2.ipynb\" target=\"_parent\"><img src=\"https://colab.research.google.com/assets/colab-badge.svg\" alt=\"Open In Colab\"/></a>"
      ]
    },
    {
      "cell_type": "code",
      "execution_count": 14,
      "metadata": {
        "colab": {
          "base_uri": "https://localhost:8080/"
        },
        "id": "BL-5SHazG6CZ",
        "outputId": "24b82dde-320e-4118-df1a-f4534d9e6758"
      },
      "outputs": [
        {
          "output_type": "stream",
          "name": "stdout",
          "text": [
            "숫자1==> : 45\n",
            "숫자2==> : 8\n",
            "45 + 8 = 53\n",
            "45 - 8 = 37\n",
            "45 * 8 = 360\n",
            "45 / 8 = 5.625\n",
            "45 % 8 = 5\n",
            "45 ** 8 = 16815125390625\n"
          ]
        }
      ],
      "source": [
        "num1 = int(input(\"숫자1==> : \"))\n",
        "num2 = int(input(\"숫자2==> : \"))\n",
        "print(num1, \"+\", num2, \"=\", num1+num2)\n",
        "print(num1, \"-\", num2, \"=\", num1-num2)\n",
        "print(num1, \"*\", num2, \"=\", num1*num2)\n",
        "print(num1, \"/\", num2, \"=\", float(num1/num2))\n",
        "print(num1, \"%\", num2, \"=\", num1%num2)\n",
        "print(num1, \"**\", num2, \"=\", num1**num2)"
      ]
    },
    {
      "cell_type": "code",
      "source": [],
      "metadata": {
        "id": "fAYv-AKOJTuY"
      },
      "execution_count": null,
      "outputs": []
    }
  ]
}
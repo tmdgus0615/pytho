{
  "nbformat": 4,
  "nbformat_minor": 0,
  "metadata": {
    "colab": {
      "provenance": [],
      "authorship_tag": "ABX9TyPKMKAHiIImcXrN6NJObyB4",
      "include_colab_link": true
    },
    "kernelspec": {
      "name": "python3",
      "display_name": "Python 3"
    },
    "language_info": {
      "name": "python"
    }
  },
  "cells": [
    {
      "cell_type": "markdown",
      "metadata": {
        "id": "view-in-github",
        "colab_type": "text"
      },
      "source": [
        "<a href=\"https://colab.research.google.com/github/tmdgus0615/python/blob/main/%EA%B3%BC%EC%A0%9C1.ipynb\" target=\"_parent\"><img src=\"https://colab.research.google.com/assets/colab-badge.svg\" alt=\"Open In Colab\"/></a>"
      ]
    },
    {
      "cell_type": "code",
      "execution_count": 7,
      "metadata": {
        "colab": {
          "base_uri": "https://localhost:8080/"
        },
        "id": "bsqcU6vpVjDm",
        "outputId": "b87dcf16-fc96-41cb-ee8f-00be94d0a1c3"
      },
      "outputs": [
        {
          "output_type": "stream",
          "name": "stdout",
          "text": [
            "## 택배를 보내기 위한 정보를 입력하세요.\n",
            "받는사람 : 김난생\n",
            "주소 : 서울 영등포구 여의도동 88\n",
            "무게(g) : 721\n",
            "**받는사람 ==>  김난생\n",
            "**주소 ==>  서울 영등포구 여의도동 88\n",
            "**배송비 ==>  3605\n"
          ]
        }
      ],
      "source": [
        "print(\"## 택배를 보내기 위한 정보를 입력하세요.\")\n",
        "receive_name = input(\"받는사람 : \")\n",
        "address = input(\"주소 : \")\n",
        "weight = int(input(\"무게(g) : \"))\n",
        "print(\"**받는사람 ==> \", receive_name)\n",
        "print(\"**주소 ==> \", address)\n",
        "print(\"**배송비 ==> \", weight*5)"
      ]
    }
  ]
}
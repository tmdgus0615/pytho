{
  "nbformat": 4,
  "nbformat_minor": 0,
  "metadata": {
    "colab": {
      "provenance": [],
      "authorship_tag": "ABX9TyO10OltjR1tWrANZGVlYu49",
      "include_colab_link": true
    },
    "kernelspec": {
      "name": "python3",
      "display_name": "Python 3"
    },
    "language_info": {
      "name": "python"
    }
  },
  "cells": [
    {
      "cell_type": "markdown",
      "metadata": {
        "id": "view-in-github",
        "colab_type": "text"
      },
      "source": [
        "<a href=\"https://colab.research.google.com/github/tmdgus0615/python/blob/main/%EA%B3%BC%EC%A0%9C11.ipynb\" target=\"_parent\"><img src=\"https://colab.research.google.com/assets/colab-badge.svg\" alt=\"Open In Colab\"/></a>"
      ]
    },
    {
      "cell_type": "code",
      "execution_count": 3,
      "metadata": {
        "colab": {
          "base_uri": "https://localhost:8080/"
        },
        "id": "9ZlUKHTBekPl",
        "outputId": "70f916b4-fb1c-49bf-82fa-22f754c42847"
      },
      "outputs": [
        {
          "output_type": "stream",
          "name": "stdout",
          "text": [
            "숫자 : 10\n",
            "숫자 : 20\n",
            "숫자 : 30\n",
            "숫자 : 40\n",
            "숫자 : 50\n",
            "리스트의 합계 :  150\n"
          ]
        }
      ],
      "source": [
        "numList = [0, 0, 0, 0, 0]\n",
        "\n",
        "numList[0] = input(\"숫자 : \")\n",
        "numList[1] = input(\"숫자 : \")\n",
        "numList[2] = input(\"숫자 : \")\n",
        "numList[3] = input(\"숫자 : \")\n",
        "numList[4] = input(\"숫자 : \")\n",
        "\n",
        "sum = int(numList[0]) + int(numList[1]) + int(numList[2]) + int(numList[3]) + int(numList[4])\n",
        "print(\"리스트의 합계 : \", sum)"
      ]
    },
    {
      "cell_type": "code",
      "source": [
        "numList = [10, 20, 30]"
      ],
      "metadata": {
        "id": "6cH_T_wPsVQ5"
      },
      "execution_count": 5,
      "outputs": []
    },
    {
      "cell_type": "code",
      "source": [
        "mylist = []\n",
        "mylist.append(\"안산\")\n",
        "mylist.append(\"공고\")\n",
        "mylist.append(\"3107\")\n",
        "mylist.append(\"777\")\n",
        "\n",
        "print(mylist)"
      ],
      "metadata": {
        "colab": {
          "base_uri": "https://localhost:8080/"
        },
        "id": "Ol9D1YlksmuY",
        "outputId": "31007199-5cfa-468c-b0bb-8bdf6ca5339d"
      },
      "execution_count": 6,
      "outputs": [
        {
          "output_type": "stream",
          "name": "stdout",
          "text": [
            "['안산', '공고', '3107', '777']\n"
          ]
        }
      ]
    },
    {
      "cell_type": "code",
      "source": [
        "import random\n",
        "wordlist = [\"중요한 것은 꺾이지 않는 마음\", \n",
        "            \"너 자신을 알라\", \n",
        "            \"신은 용기있는 자를 결코 버리지않는다\", \n",
        "            \"피할 수 없다면 즐겨라\", \n",
        "            \"내일은 내일의 태양이 뜬다\", \n",
        "            \"이 또한 지나가리라\", \n",
        "            \"명언이 또 하나 늘었다\"]\n",
        "\n",
        "rnd_say = random.choice(wordlist)\n",
        "print(\"오늘의 명언 ==> \", rnd_say)"
      ],
      "metadata": {
        "colab": {
          "base_uri": "https://localhost:8080/"
        },
        "id": "cOHWsB88t9dH",
        "outputId": "3c2e23fb-dda8-4974-c0fe-a54b4bbee3d3"
      },
      "execution_count": 14,
      "outputs": [
        {
          "output_type": "stream",
          "name": "stdout",
          "text": [
            "오늘의 명언 ==>  신은 용기있는 자를 결코 버리지않는다\n"
          ]
        }
      ]
    },
    {
      "cell_type": "code",
      "source": [
        "import datetime\n",
        "\n",
        "now = datetime.date.today()\n",
        "birthday = datetime.date(2005,6,15)\n",
        "age = now - birthday\n",
        "print(age.days/365)"
      ],
      "metadata": {
        "colab": {
          "base_uri": "https://localhost:8080/"
        },
        "id": "Xz5TdjD8ykwx",
        "outputId": "83fd18b0-16e8-4664-eba4-8c83cdae17a4"
      },
      "execution_count": 18,
      "outputs": [
        {
          "output_type": "stream",
          "name": "stdout",
          "text": [
            "17.83013698630137\n"
          ]
        }
      ]
    },
    {
      "cell_type": "code",
      "source": [
        "import datetime\n",
        "\n",
        "now = datetime.date.today()\n",
        "dday = datetime.date(2023,11,16)\n",
        "test = dday - now\n",
        "print(test.days)"
      ],
      "metadata": {
        "colab": {
          "base_uri": "https://localhost:8080/"
        },
        "id": "Gx52rT5k0JWY",
        "outputId": "a52a8991-c966-4560-9c44-7a25743afb44"
      },
      "execution_count": 20,
      "outputs": [
        {
          "output_type": "stream",
          "name": "stdout",
          "text": [
            "220\n"
          ]
        }
      ]
    }
  ]
}
{
  "nbformat": 4,
  "nbformat_minor": 0,
  "metadata": {
    "colab": {
      "provenance": [],
      "authorship_tag": "ABX9TyPSD2s0rIHScUbctpQXA8No",
      "include_colab_link": true
    },
    "kernelspec": {
      "name": "python3",
      "display_name": "Python 3"
    },
    "language_info": {
      "name": "python"
    }
  },
  "cells": [
    {
      "cell_type": "markdown",
      "metadata": {
        "id": "view-in-github",
        "colab_type": "text"
      },
      "source": [
        "<a href=\"https://colab.research.google.com/github/tmdgus0615/python/blob/main/%EA%B3%BC%EC%A0%9C5.ipynb\" target=\"_parent\"><img src=\"https://colab.research.google.com/assets/colab-badge.svg\" alt=\"Open In Colab\"/></a>"
      ]
    },
    {
      "cell_type": "code",
      "execution_count": 6,
      "metadata": {
        "colab": {
          "base_uri": "https://localhost:8080/"
        },
        "id": "EIwmjebNWbug",
        "outputId": "5c8cdef8-ed23-4481-e7c3-8bb031bf522d"
      },
      "outputs": [
        {
          "output_type": "stream",
          "name": "stdout",
          "text": [
            "정보처리기능사 실기 점수 입력 : 60\n",
            "합격\n",
            "축하드립니다\n"
          ]
        }
      ],
      "source": [
        "score = int(input(\"정보처리기능사 실기 점수 입력 : \"))\n",
        "\n",
        "if score >= 60 :\n",
        "  print(\"합격\")\n",
        "  print(\"축하드립니다\")\n",
        "else :\n",
        "  print(\"불합격\")"
      ]
    },
    {
      "cell_type": "code",
      "source": [
        "# 한줄 주석문 연습\n",
        "\"\"\"\n",
        "프로그래밍 수업 : 3월 20일\n",
        "프로그래머 : 김승현\n",
        "프로그램 최종 작성일 : 3월 20일\n",
        "\"\"\"\n",
        "print(\"파이썬(3) : B(3.5) \\n\")\n",
        "print(\"모바일(2) : A0(3.5) \\n\")\n",
        "print(\"엑셀(1) : A(3.5) \\n\")\n",
        "python = float(input(\"파이썬 성적을 입력(예 : 3.5) : \"))\n",
        "mobile = float(input(\"모바일 성적을 입력(예 : 3.5) : \"))\n",
        "excel = float(input(\"엑셀 성적을 입력(예 : 3.5) : \"))\n",
        "print(\"파이썬 학점은 :\", python)\n",
        "print(\"모바일 학점은 :\", python)\n",
        "print(\"엑셀 학점은 :\", python)\n",
        "\n",
        "result = (python * 3) + (mobile * 2 ) + excel\n",
        "avg = result / 6\n",
        "\n",
        "print(\"평균 학점은 \", round(avg, 3))"
      ],
      "metadata": {
        "colab": {
          "base_uri": "https://localhost:8080/"
        },
        "id": "-W2HThnQYGdw",
        "outputId": "ca7c8906-afff-4aba-cc03-776bf78f5253"
      },
      "execution_count": 11,
      "outputs": [
        {
          "output_type": "stream",
          "name": "stdout",
          "text": [
            "파이썬(3) : B(3.5) \n",
            "\n",
            "모바일(2) : A0(3.5) \n",
            "\n",
            "엑셀(1) : A(3.5) \n",
            "\n",
            "파이썬 성적을 입력(예 : 3.5) : 3.5\n",
            "모바일 성적을 입력(예 : 3.5) : 4.0\n",
            "엑셀 성적을 입력(예 : 3.5) : 4.5\n",
            "파이썬 학점은 : 3.5\n",
            "모바일 학점은 : 3.5\n",
            "엑셀 학점은 : 3.5\n",
            "평균 학점은  3.833\n"
          ]
        }
      ]
    },
    {
      "cell_type": "code",
      "source": [
        "print(\"\\n줄바꿈\\n연습\")\n",
        "print(\"\\t탭키\\t연습\")\n",
        "print(\"어떤 글자를 \\\"강조\\\"하는 효과1\")\n",
        "print(\"어떤 글자를 \\'강조\\'하는 효과2\")\n",
        "print(\"\\\\\\\\ 백슬래시 2개 출력\")"
      ],
      "metadata": {
        "colab": {
          "base_uri": "https://localhost:8080/"
        },
        "id": "GfxqfLnrbLnB",
        "outputId": "85dc8206-d717-4b5e-bd56-7c3443f8d9d2"
      },
      "execution_count": 13,
      "outputs": [
        {
          "output_type": "stream",
          "name": "stdout",
          "text": [
            "\n",
            "줄바꿈\n",
            "연습\n",
            "\t탭키\t연습\n",
            "어떤 글자를 \"강조\"하는 효과1\n",
            "어떤 글자를 '강조'하는 효과2\n",
            "\\\\ 백슬래시 2개 출력\n"
          ]
        }
      ]
    },
    {
      "cell_type": "code",
      "source": [
        "FirstString = input(\"첫 번째 문자열 ==>\")\n",
        "SecondString = input(\"두 번째 문자열 ==>\")\n",
        "length = len(FirstString) - len(SecondString)\n",
        "print(length)"
      ],
      "metadata": {
        "colab": {
          "base_uri": "https://localhost:8080/"
        },
        "id": "s_yLCe2VehzZ",
        "outputId": "5de93f69-306e-47ad-8b25-bc676b370d5a"
      },
      "execution_count": 14,
      "outputs": [
        {
          "output_type": "stream",
          "name": "stdout",
          "text": [
            "첫 번째 문자열 ==>안산공고\n",
            "두 번째 문자열 ==>ㄱ\n",
            "3\n"
          ]
        }
      ]
    },
    {
      "cell_type": "code",
      "source": [
        "str1 = \"\"\"\n",
        "안산공업고등학교 컴퓨터과, 안산공업고등학교는\n",
        "기계과, 전기과, 전자과, 화공과, 디자인과, 컴퓨터과로 총 6개의\n",
        "과로 이루어져있습니다.\n",
        "\"\"\"\n",
        "strLen = str1.count(\"안산\")\n",
        "print(strLen)"
      ],
      "metadata": {
        "colab": {
          "base_uri": "https://localhost:8080/"
        },
        "id": "BE2zJ6MljMdJ",
        "outputId": "7a12edca-45ed-4b42-c13c-7f81698c1ecf"
      },
      "execution_count": 15,
      "outputs": [
        {
          "output_type": "stream",
          "name": "stdout",
          "text": [
            "2\n"
          ]
        }
      ]
    },
    {
      "cell_type": "code",
      "source": [
        "#Let it be 가사가 몇번 나오는지 확인하는 프로그램\n",
        "#upper(), lower()\n",
        "\n",
        "letitbe = \"\"\"\n",
        "When I find myself in times of trouble, Mother Mary comes to me\n",
        "Speaking words of wisdom, let it be\n",
        "And in my hour of darkness she is standing right in front of me\n",
        "Speaking words of wisdom, let it be\n",
        "Let it be, let it be, let it be, let it be\n",
        "Whisper words of wisdom, let it be\n",
        "And when the broken hearted people living in the world agree\n",
        "There will be an answer, let it be\n",
        "For though they may be parted, there is still a chance that they will see\n",
        "There will be an answer, let it be\n",
        "Let it be, let it be, let it be, let it be\n",
        "There will be an answer, let it be\n",
        "Let it be, let it be, let it be, let it be\n",
        "Whisper words of wisdom, let it be\n",
        "Let it be, let it be, let it be, let it be\n",
        "Whisper words of wisdom, let it be, be\n",
        "And when the night is cloudy there is still a light that shines on me\n",
        "Shinin' until tomorrow, let it be\n",
        "I wake up to the sound of music, Mother Mary comes to me\n",
        "Speaking words of wisdom, let it be\n",
        "And let it be, let it be, let it be, let it be\n",
        "Whisper words of wisdom, let it be\n",
        "And let it be, let it be, let it be, let it be\n",
        "Whisper words of wisdom, let it be\n",
        "\"\"\"\n",
        "\n",
        "letitbe = letitbe.lower()\n",
        "strlen = letitbe.count(\"let it be\")\n",
        "print(\"let it be는 총\", strlen, \"번 나옵니다.\")"
      ],
      "metadata": {
        "colab": {
          "base_uri": "https://localhost:8080/"
        },
        "id": "CrIX0_tLj7DB",
        "outputId": "f43ffdac-928a-43f8-d5f3-6f245a71c36e"
      },
      "execution_count": 28,
      "outputs": [
        {
          "output_type": "stream",
          "name": "stdout",
          "text": [
            "let it be는 총 36 번 나옵니다.\n"
          ]
        }
      ]
    }
  ]
}
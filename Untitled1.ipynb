{
  "nbformat": 4,
  "nbformat_minor": 0,
  "metadata": {
    "colab": {
      "provenance": [],
      "authorship_tag": "ABX9TyOUR2Pu3KuJmqQ7OZdfT4a8",
      "include_colab_link": true
    },
    "kernelspec": {
      "name": "python3",
      "display_name": "Python 3"
    },
    "language_info": {
      "name": "python"
    }
  },
  "cells": [
    {
      "cell_type": "markdown",
      "metadata": {
        "id": "view-in-github",
        "colab_type": "text"
      },
      "source": [
        "<a href=\"https://colab.research.google.com/github/tmdgus0615/python/blob/main/Untitled1.ipynb\" target=\"_parent\"><img src=\"https://colab.research.google.com/assets/colab-badge.svg\" alt=\"Open In Colab\"/></a>"
      ]
    },
    {
      "cell_type": "markdown",
      "source": [
        "#제목\n",
        "##타이틀\n",
        "\n",
        "컴퓨터과 3학년 1반 7번  \n",
        "김승현\n"
      ],
      "metadata": {
        "id": "CfpqpbXHF2qD"
      }
    },
    {
      "cell_type": "code",
      "execution_count": 3,
      "metadata": {
        "colab": {
          "base_uri": "https://localhost:8080/"
        },
        "id": "qh2Zgi9jF0kY",
        "outputId": "fc93d925-4ac5-4daf-fac8-c2d7d65cd2d4"
      },
      "outputs": [
        {
          "output_type": "stream",
          "name": "stdout",
          "text": [
            "오늘은 금요일\n",
            "나혼자 심심해\n",
            "친구랑 게임한판\n"
          ]
        }
      ],
      "source": [
        "print(\"오늘은 금요일\")\n",
        "print(\"나혼자 심심해\")\n",
        "print(\"친구랑 게임한판\")"
      ]
    }
  ]
}